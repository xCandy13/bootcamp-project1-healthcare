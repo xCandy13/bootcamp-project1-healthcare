{
 "cells": [
  {
   "cell_type": "markdown",
   "metadata": {},
   "source": [
    "# **Exploration of COVIDActNow data**\n",
    "\n",
    "---\n",
    "\n",
    "### *An introductory data collection and analysis project on COVID-19 data sourced from COVIDActNow.org*\n",
    "\n",
    "\n",
    "Tara Ahuja, Jonathan Arp, Jesse Delacruz Jr., Derrick Ngo\n",
    "\n",
    "---"
   ]
  },
  {
   "cell_type": "markdown",
   "metadata": {},
   "source": [
    "The following code pulls data from the API and creates our initial dataframe and .csv file that each individual references for analysis."
   ]
  },
  {
   "cell_type": "code",
   "execution_count": 2,
   "metadata": {},
   "outputs": [],
   "source": [
    "#import dependencies\n",
    "import requests\n",
    "import json\n",
    "import numpy as np\n",
    "import pandas as pd\n",
    "import matplotlib.pyplot as plt\n",
    "from config import covid_api"
   ]
  },
  {
   "cell_type": "code",
   "execution_count": null,
   "metadata": {},
   "outputs": [],
   "source": [
    "#setup base url and perform initial get request\n",
    "covid_base_url = 'https://api.covidactnow.org/v2/states.json?apiKey='+covid_api\n",
    "covid_json = requests.get(covid_base_url).json()"
   ]
  },
  {
   "cell_type": "code",
   "execution_count": null,
   "metadata": {},
   "outputs": [],
   "source": [
    "#create dataframe using concat\n",
    "states_df = pd.DataFrame()\n",
    "for state in covid_json:\n",
    "    state_temp = pd.DataFrame({\n",
    "        'State':[state['state']],\n",
    "        'Population':[state['population']],\n",
    "        \n",
    "        'Vaccination Ratio':[state['metrics']['vaccinationsInitiatedRatio']],\n",
    "        'Weekly New Cases (per 100k)':[state['metrics']['weeklyNewCasesPer100k']],\n",
    "        'Infection Rate':[state['metrics']['infectionRate']],\n",
    "        \n",
    "        'Cases':[state['actuals']['cases']],\n",
    "        'Deaths':[state['actuals']['deaths']],\n",
    "        'Hospital Beds':[state['actuals']['hospitalBeds']['capacity']],\n",
    "        'Covid ICU Usage':[state['actuals']['hospitalBeds']['currentUsageCovid']]\n",
    "    })\n",
    "    #add new row\n",
    "    states_df=pd.concat([\n",
    "        states_df,\n",
    "        state_temp\n",
    "    ], ignore_index=True)"
   ]
  },
  {
   "cell_type": "code",
   "execution_count": null,
   "metadata": {},
   "outputs": [],
   "source": [
    "#export dataframe to csv\n",
    "states_df.to_csv('StatesCleaned.csv')"
   ]
  },
  {
   "cell_type": "markdown",
   "metadata": {},
   "source": [
    "### **The following code is Jonathan's work to answer this question:...**"
   ]
  },
  {
   "cell_type": "markdown",
   "metadata": {},
   "source": [
    "### **The following code is Derrick's work to answer this question:...**"
   ]
  },
  {
   "cell_type": "code",
   "execution_count": null,
   "metadata": {},
   "outputs": [],
   "source": [
    "#import data from StatesCleaned.csv and drop extra index column\n",
    "states_data = pd.read_csv('StatesCleaned.csv')\n",
    "states_data = states_data.drop('Unnamed: 0',axis=1)"
   ]
  },
  {
   "cell_type": "code",
   "execution_count": null,
   "metadata": {},
   "outputs": [],
   "source": [
    "#create a function to prompt for user input\n",
    "def prompt():\n",
    "    #ask user for which two states to compare\n",
    "    state1 = input(\"Enter the two-letter abbreviation of the first state you'd like to compare: \")\n",
    "    state2 = input(\"Enter the two-letter abbreviation of the second state you'd like to compare: \")\n",
    "\n",
    "    #create list of selectable metrics (from the dataframe columns)\n",
    "    metrics_list = ''\n",
    "    index = 1\n",
    "    for metric_name in states_data.columns[2:]:\n",
    "        metrics_list = metrics_list+str(index)+': '+str(metric_name)+',\\n' \n",
    "        index+=1\n",
    "        \n",
    "    #ask user for desired comparison metric\n",
    "    metric_index = input(f\"Select the metric (type the number) you'd like to compare {state1} and {state2} on: \"+metrics_list)\n",
    "\n",
    "    #return user input as a list\n",
    "    return [state1,state2,metric_index]"
   ]
  },
  {
   "cell_type": "code",
   "execution_count": null,
   "metadata": {},
   "outputs": [],
   "source": [
    "#prompt user and check for input errors\n",
    "while True:\n",
    "    try:\n",
    "        inputs = prompt()\n",
    "        #check if metric index is within bounds\n",
    "        column_name = states_data.columns[int(inputs[2])+1]\n",
    "        #boolean evaluation for correct state abbreviations\n",
    "        state_check = (states_data.loc[states_data['State']==inputs[0]].any().any()) and (states_data.loc[states_data['State']==inputs[1]].any().any())\n",
    "        if ~state_check:\n",
    "            raise Exception\n",
    "    except:\n",
    "        #if any input is incorrectly formatted (not two-letter abbreviation, or not a possible column number), retry input\n",
    "        print('Those inputs were not accepted. Retrying... ')\n",
    "    else:\n",
    "        #if inputs are acceptable, move on\n",
    "        print('Inputs accepted...')\n",
    "        break"
   ]
  },
  {
   "cell_type": "markdown",
   "metadata": {},
   "source": [
    "This code creates the desired visualization from the user's input. After taking two state abbreviations and a selected metric (column) from the user, a graph comparing the stats for that metric is created."
   ]
  },
  {
   "cell_type": "code",
   "execution_count": null,
   "metadata": {},
   "outputs": [],
   "source": [
    "#access the requested data in the dataframe and present it in a dual bar graph\n",
    "x = [inputs[0], inputs[1]]\n",
    "y = [states_data.loc[states_data['State']==inputs[0]][column_name].values[0],states_data.loc[states_data['State']==inputs[1]][column_name].values[0]]\n",
    "\n",
    "#create visualization, set attributes, save image, and display\n",
    "plt.figure(facecolor='white')\n",
    "plt.bar(x,y,edgecolor='black')\n",
    "\n",
    "plt.xlabel('States')\n",
    "plt.ylabel(column_name)\n",
    "initial_yticks = plt.gca().get_yticks()\n",
    "plt.gca().set_yticklabels(['{:,.1f}'.format(x) for x in initial_yticks])\n",
    "plt.title(f'{column_name} for {inputs[0]} and {inputs[1]}')\n",
    "\n",
    "plt.savefig('singlecomparison.png')\n",
    "\n",
    "plt.show()"
   ]
  },
  {
   "cell_type": "markdown",
   "metadata": {},
   "source": [
    "This next block takes the same states from the earlier input, and plots ALL of the metrics\n",
    "This block achieves this using a single loop, standardizing the plots. This results in a less-than-ideal representation/scaling of the graphs side-by-side, but completes this process with less code than individualized/specific data parsing."
   ]
  },
  {
   "cell_type": "code",
   "execution_count": null,
   "metadata": {},
   "outputs": [],
   "source": [
    "#compare ALL metrics for chosen states\n",
    "x = [inputs[0], inputs[1]]\n",
    "column_index = 2\n",
    "\n",
    "#create visualization and set attributes\n",
    "tuple_axs = ('ax1','ax2','ax3','ax4','ax5','ax6','ax7')\n",
    "fig, tuple_axs = plt.subplots(1,7, sharex = True)\n",
    "fig.set_facecolor('white')\n",
    "fig.suptitle(f'Comparison between {inputs[0]} and {inputs[1]}', fontsize=16, fontweight='bold')\n",
    "fig.set_size_inches(35,5)\n",
    "\n",
    "# loop through all metrics and create a standardized plot for each\n",
    "for ax in tuple_axs:\n",
    "    #retrieve data for each metric\n",
    "    column_name = states_data.columns[column_index]\n",
    "    y = [states_data.loc[states_data['State']==inputs[0]][column_name].values[0],states_data.loc[states_data['State']==inputs[1]][column_name].values[0]]\n",
    "    \n",
    "    #create plot, set attributes\n",
    "    ax.bar(x,y,edgecolor='black', color = ['sandybrown','dodgerblue'])\n",
    "    ax.set_ylabel = states_data.columns[column_index]\n",
    "    initial_yticks = ax.get_yticks()\n",
    "    ax.set_yticklabels(['{:,.1f}'.format(x) for x in initial_yticks])\n",
    "    ax.set_title(f'{column_name}')\n",
    "\n",
    "    #increment index tracker\n",
    "    column_index += 1\n",
    "\n",
    "#save and display graphic\n",
    "fig.tight_layout()\n",
    "\n",
    "plt.savefig('allmetrics.png')\n",
    "plt.show()"
   ]
  },
  {
   "cell_type": "markdown",
   "metadata": {},
   "source": [
    "### **The following code is Jesse's work to answer this question:...**"
   ]
  },
  {
   "cell_type": "markdown",
   "metadata": {},
   "source": [
    "### **The following code is Tara's work to answer this question:...**"
   ]
  },
  {
   "cell_type": "markdown",
   "metadata": {},
   "source": []
  }
 ],
 "metadata": {
  "kernelspec": {
   "display_name": "Python 3.7.7 ('PythonData')",
   "language": "python",
   "name": "python3"
  },
  "language_info": {
   "codemirror_mode": {
    "name": "ipython",
    "version": 3
   },
   "file_extension": ".py",
   "mimetype": "text/x-python",
   "name": "python",
   "nbconvert_exporter": "python",
   "pygments_lexer": "ipython3",
   "version": "3.7.15"
  },
  "orig_nbformat": 4,
  "vscode": {
   "interpreter": {
    "hash": "b720a66972b82391c6004e6b4f6bab6d1d00e502f5dda19632c0a96f82ac1464"
   }
  }
 },
 "nbformat": 4,
 "nbformat_minor": 2
}
