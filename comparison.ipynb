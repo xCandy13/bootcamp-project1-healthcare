{
 "cells": [
  {
   "cell_type": "markdown",
   "metadata": {},
   "source": [
    "# Comparison using user input to select two states/territories"
   ]
  },
  {
   "cell_type": "code",
   "execution_count": 2,
   "metadata": {},
   "outputs": [],
   "source": [
    "#import dependencies\n",
    "import pandas as pd\n",
    "import matplotlib.pyplot as plt\n",
    "import numpy as np\n"
   ]
  },
  {
   "cell_type": "code",
   "execution_count": 31,
   "metadata": {},
   "outputs": [
    {
     "data": {
      "text/html": [
       "<div>\n",
       "<style scoped>\n",
       "    .dataframe tbody tr th:only-of-type {\n",
       "        vertical-align: middle;\n",
       "    }\n",
       "\n",
       "    .dataframe tbody tr th {\n",
       "        vertical-align: top;\n",
       "    }\n",
       "\n",
       "    .dataframe thead th {\n",
       "        text-align: right;\n",
       "    }\n",
       "</style>\n",
       "<table border=\"1\" class=\"dataframe\">\n",
       "  <thead>\n",
       "    <tr style=\"text-align: right;\">\n",
       "      <th></th>\n",
       "      <th>State</th>\n",
       "      <th>Population</th>\n",
       "      <th>Vaccination Ratio</th>\n",
       "      <th>Weekly New Cases (per 100k)</th>\n",
       "      <th>Infection Rate</th>\n",
       "      <th>Cases</th>\n",
       "      <th>Deaths</th>\n",
       "      <th>Hospital Beds</th>\n",
       "      <th>Covid ICU Usage</th>\n",
       "    </tr>\n",
       "  </thead>\n",
       "  <tbody>\n",
       "    <tr>\n",
       "      <th>0</th>\n",
       "      <td>AK</td>\n",
       "      <td>731545</td>\n",
       "      <td>0.725</td>\n",
       "      <td>54.3</td>\n",
       "      <td>1.04</td>\n",
       "      <td>300238</td>\n",
       "      <td>1390</td>\n",
       "      <td>1860.0</td>\n",
       "      <td>35.0</td>\n",
       "    </tr>\n",
       "    <tr>\n",
       "      <th>1</th>\n",
       "      <td>AL</td>\n",
       "      <td>4903185</td>\n",
       "      <td>0.647</td>\n",
       "      <td>85.4</td>\n",
       "      <td>1.15</td>\n",
       "      <td>1546720</td>\n",
       "      <td>21129</td>\n",
       "      <td>13416.0</td>\n",
       "      <td>310.0</td>\n",
       "    </tr>\n",
       "    <tr>\n",
       "      <th>2</th>\n",
       "      <td>AR</td>\n",
       "      <td>3017804</td>\n",
       "      <td>0.694</td>\n",
       "      <td>115.1</td>\n",
       "      <td>1.23</td>\n",
       "      <td>970396</td>\n",
       "      <td>12587</td>\n",
       "      <td>7367.0</td>\n",
       "      <td>287.0</td>\n",
       "    </tr>\n",
       "    <tr>\n",
       "      <th>3</th>\n",
       "      <td>AZ</td>\n",
       "      <td>7278717</td>\n",
       "      <td>0.767</td>\n",
       "      <td>178.4</td>\n",
       "      <td>1.26</td>\n",
       "      <td>2336206</td>\n",
       "      <td>31751</td>\n",
       "      <td>15059.0</td>\n",
       "      <td>1113.0</td>\n",
       "    </tr>\n",
       "    <tr>\n",
       "      <th>4</th>\n",
       "      <td>CA</td>\n",
       "      <td>39512223</td>\n",
       "      <td>0.840</td>\n",
       "      <td>128.7</td>\n",
       "      <td>1.22</td>\n",
       "      <td>11540816</td>\n",
       "      <td>99932</td>\n",
       "      <td>63802.0</td>\n",
       "      <td>4540.0</td>\n",
       "    </tr>\n",
       "  </tbody>\n",
       "</table>\n",
       "</div>"
      ],
      "text/plain": [
       "  State  Population  Vaccination Ratio  Weekly New Cases (per 100k)  \\\n",
       "0    AK      731545              0.725                         54.3   \n",
       "1    AL     4903185              0.647                         85.4   \n",
       "2    AR     3017804              0.694                        115.1   \n",
       "3    AZ     7278717              0.767                        178.4   \n",
       "4    CA    39512223              0.840                        128.7   \n",
       "\n",
       "   Infection Rate     Cases  Deaths  Hospital Beds  Covid ICU Usage  \n",
       "0            1.04    300238    1390         1860.0             35.0  \n",
       "1            1.15   1546720   21129        13416.0            310.0  \n",
       "2            1.23    970396   12587         7367.0            287.0  \n",
       "3            1.26   2336206   31751        15059.0           1113.0  \n",
       "4            1.22  11540816   99932        63802.0           4540.0  "
      ]
     },
     "execution_count": 31,
     "metadata": {},
     "output_type": "execute_result"
    }
   ],
   "source": [
    "#import data from StatesCleaned.csv\n",
    "states_data = pd.read_csv('StatesCleaned.csv')\n",
    "states_data = states_data.drop('Unnamed: 0',axis=1)\n",
    "states_data.head()"
   ]
  },
  {
   "cell_type": "code",
   "execution_count": 62,
   "metadata": {},
   "outputs": [],
   "source": [
    "#ask user for which two states to compare and which metric to compare\n",
    "state1 = input(\"Enter the two-letter abbreviation of the first state you'd like to compare: \")\n",
    "state2 = input(\"Enter the two-letter abbreviation of the second state you'd like to compare: \")\n",
    "\n",
    "#select column name using user input\n",
    "metrics_list = ''\n",
    "index = 1\n",
    "for metric_name in states_data.columns[2:]:\n",
    "    metrics_list = metrics_list+str(index)+': '+str(metric_name)+',\\n' \n",
    "    index+=1\n",
    "metric_index = input(f\"Select the metric (type the number) you'd like to compare {state1} and {state2} on: \"+metrics_list)\n",
    "column_name = states_data.columns[int(metric_index)+1]"
   ]
  },
  {
   "cell_type": "code",
   "execution_count": 75,
   "metadata": {},
   "outputs": [
    {
     "data": {
      "image/png": "[encoded data removed]",
      "text/plain": [
       "<Figure size 432x288 with 1 Axes>"
      ]
     },
     "metadata": {},
     "output_type": "display_data"
    }
   ],
   "source": [
    "#access the requested data in the dataframe and present it in a dual bar graph\n",
    "x = [state1, state2]\n",
    "#states_data.loc[states_data['State']==state1][states_data.columns[int(metric_index)+1]].values[0]\n",
    "y = [states_data.loc[states_data['State']==state1][column_name].values[0],states_data.loc[states_data['State']==state2][column_name].values[0]]\n",
    "\n",
    "#create visualization and set attributes\n",
    "plt.figure(facecolor='white')\n",
    "plt.bar(x,y,edgecolor='black')\n",
    "plt.xlabel('States')\n",
    "plt.ylabel(column_name)\n",
    "initial_yticks = plt.gca().get_yticks()\n",
    "plt.gca().set_yticklabels(['{:,.0f}'.format(x) for x in initial_yticks])\n",
    "plt.title(f'{column_name} for {state1} and {state2}')\n",
    "plt.show()"
   ]
  },
  {
   "cell_type": "code",
   "execution_count": 76,
   "metadata": {},
   "outputs": [],
   "source": [
    "#compare ALL metrics for chosen states\n",
    "x = [state1, state2]\n",
    "y = [states_data.loc[states_data['State']==state1][column_name].values[0],states_data.loc[states_data['State']==state2][column_name].values[0]]\n",
    "\n",
    "#create visualization and set attributes\n",
    "plt.subplots()\n",
    "plt.figure(facecolor='white')\n",
    "plt.bar(x,y,edgecolor='black')\n",
    "plt.xlabel('States')\n",
    "plt.ylabel(column_name)\n",
    "initial_yticks = plt.gca().get_yticks()\n",
    "plt.gca().set_yticklabels(['{:,.0f}'.format(x) for x in initial_yticks])\n",
    "plt.title(f'{column_name} for {state1} and {state2}')\n",
    "plt.show()"
   ]
  },
  {
   "cell_type": "code",
   "execution_count": null,
   "metadata": {},
   "outputs": [],
   "source": []
  }
 ],
 "metadata": {
  "kernelspec": {
   "display_name": "Python 3.7.7 ('PythonData')",
   "language": "python",
   "name": "python3"
  },
  "language_info": {
   "codemirror_mode": {
    "name": "ipython",
    "version": 3
   },
   "file_extension": ".py",
   "mimetype": "text/x-python",
   "name": "python",
   "nbconvert_exporter": "python",
   "pygments_lexer": "ipython3",
   "version": "3.7.7"
  },
  "orig_nbformat": 4,
  "vscode": {
   "interpreter": {
    "hash": "b720a66972b82391c6004e6b4f6bab6d1d00e502f5dda19632c0a96f82ac1464"
   }
  }
 },
 "nbformat": 4,
 "nbformat_minor": 2
}
